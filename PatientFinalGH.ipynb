{
 "cells": [
  {
   "cell_type": "markdown",
   "metadata": {},
   "source": [
    "## Patient Survival Rate Prediction\n",
    "this is sofi's comment"
   ]
  },
  {
   "cell_type": "markdown",
   "metadata": {},
   "source": [
    "### Table of Contents\n",
    "\n",
    "* [Introduction](#Introduction)\n",
    "* [Data Description](#Data_Description)\n",
    "* [Dataset](#Dataset)\n",
    "* [LGBM (Light Gradient Boosting Machine)](#LGBM_Light_Gradient_Boosting_Machine)\n",
    "* [Import Libraries](#Import_Libraries)\n",
    "* [Import Dataset](#Import_Dataset)\n",
    "* [Data Exploration](#Data_Exploration)\n",
    "* [Encoding Methods](#Encoding_Methods)\n",
    "<ul>\n",
    "<li>OneHot Encoding</li>\n",
    "<li>Label Encoding</li>\n",
    "<li>Ordinal Encoding</li>\n",
    "<li>Binary Encoding</li>\n",
    "<li>Frequency Encoding</li>\n",
    "<li>Mean Encoding</li>\n",
    "</ul>\n",
    "* [Handling Missing Data](#Handling_Missing_Data)\n",
    "* [Implementing LGBM](#Implementing_LGBM)\n",
    "* [AUC - ROC Curve](#AUC-ROC_Curve)"
   ]
  },
  {
   "cell_type": "markdown",
   "metadata": {},
   "source": [
    "<a id='Introduction'></a>\n",
    "### [Introduction](#Introduction)\n",
    "\n",
    "The project examines patient health data collected from Argentina, Australia, New Zealand, Sri Lanka, Brazil, and more than 200 hospitals in the United States, as a result of worldwide collabration. The objective of the project is to create a model that composed of dataset from the first 24 hours of intensive care to predict patient survival. "
   ]
  },
  {
   "cell_type": "markdown",
   "metadata": {},
   "source": [
    "<a id='Data_Description'></a>\n",
    "### [Data Description](#Data_Description)\n",
    "\n",
    "The dataset is from MIT's GOSSIS community initiative. It consists of more than 130,000 hospital Intensive Care Unit (ICU) visits from patients over a one-year period.\n"
   ]
  },
  {
   "cell_type": "markdown",
   "metadata": {},
   "source": [
    "<a id=\"Dataset\"></a>\n",
    "### [Dataset](#Dataset)\n",
    "\n",
    "The training data consists of data with hospital_death provided. \n",
    "\n",
    "The testing data (unlabeled data) consists of data without hospital_death provided. "
   ]
  },
  {
   "cell_type": "markdown",
   "metadata": {},
   "source": [
    "<a id=\"Import_Libraries\"></a>\n",
    "### [Import Libraries](#Import_Libraries)"
   ]
  },
  {
   "cell_type": "code",
   "execution_count": 43,
   "metadata": {},
   "outputs": [],
   "source": [
    "import numpy as np # linear algebra\n",
    "import pandas as pd # data processing\n",
    "import lightgbm\n",
    "import matplotlib.pyplot as plt\n",
    "import seaborn as sns\n",
    "import catboost\n",
    "import sklearn\n",
    "from sklearn.model_selection import train_test_split\n",
    "from sklearn.preprocessing import LabelBinarizer\n",
    "import heapq\n",
    "from sklearn.preprocessing import LabelEncoder\n",
    "from sklearn.impute import SimpleImputer\n",
    "import category_encoders as ce\n",
    "%matplotlib inline\n",
    "\n",
    "import os\n"
   ]
  },
  {
   "cell_type": "markdown",
   "metadata": {},
   "source": [
    "<a id=\"Import_Dataset\"></a>\n",
    "### [Import Dataset](#Import_Dataset)"
   ]
  },
  {
   "cell_type": "code",
   "execution_count": 46,
   "metadata": {},
   "outputs": [],
   "source": [
    "dictionary = pd.read_csv('/Users/ty/Desktop/Projects/widsdatathon2020/OriginalData/WiDS_Datathon_2020_Dictionary.csv')\n",
    "train = pd.read_csv('/Users/ty/Desktop/Projects/widsdatathon2020/OriginalData/training_v2.csv')\n",
    "test = pd.read_csv('/Users/ty/Desktop/Projects/widsdatathon2020/OriginalData/unlabeled.csv')\n",
    "#id = test.set_index('encounter_id')"
   ]
  },
  {
   "cell_type": "markdown",
   "metadata": {},
   "source": [
    "<a id=\"Data_Exploration\"></a>\n",
    "### [Data Exploration](#Data_Exploration)"
   ]
  },
  {
   "cell_type": "code",
   "execution_count": 9,
   "metadata": {},
   "outputs": [
    {
     "data": {
      "text/plain": [
       "array(['integer', 'binary', 'numeric', 'string'], dtype=object)"
      ]
     },
     "execution_count": 9,
     "metadata": {},
     "output_type": "execute_result"
    }
   ],
   "source": [
    "dictionary['Data Type'].unique()"
   ]
  },
  {
   "cell_type": "code",
   "execution_count": 11,
   "metadata": {},
   "outputs": [],
   "source": [
    "# Separate Numerical Data (Train Dataset)\n",
    "num_variables_train = (train.select_dtypes(include='number')).columns\n",
    "# Separete Catagorical Data \n",
    "cat_train = [col for col in train.columns if train.dtypes[col] == 'object']"
   ]
  },
  {
   "cell_type": "code",
   "execution_count": 12,
   "metadata": {},
   "outputs": [
    {
     "data": {
      "text/plain": [
       "Index(['encounter_id', 'patient_id', 'hospital_id', 'hospital_death', 'age',\n",
       "       'bmi', 'elective_surgery', 'height', 'icu_id', 'pre_icu_los_days',\n",
       "       ...\n",
       "       'apache_4a_hospital_death_prob', 'apache_4a_icu_death_prob', 'aids',\n",
       "       'cirrhosis', 'diabetes_mellitus', 'hepatic_failure',\n",
       "       'immunosuppression', 'leukemia', 'lymphoma',\n",
       "       'solid_tumor_with_metastasis'],\n",
       "      dtype='object', length=178)"
      ]
     },
     "execution_count": 12,
     "metadata": {},
     "output_type": "execute_result"
    }
   ],
   "source": [
    "# List of Numerical Variables in Train Dataset\n",
    "num_variables_train"
   ]
  },
  {
   "cell_type": "code",
   "execution_count": 163,
   "metadata": {},
   "outputs": [
    {
     "data": {
      "text/plain": [
       "178"
      ]
     },
     "execution_count": 163,
     "metadata": {},
     "output_type": "execute_result"
    }
   ],
   "source": [
    "# Total Number of Numerical Variables in Train Dataset\n",
    "len(num_variables_train)"
   ]
  },
  {
   "cell_type": "code",
   "execution_count": 164,
   "metadata": {},
   "outputs": [],
   "source": [
    "# Separate Numerical Data (Test) \n",
    "num_variables_test = (test.select_dtypes(include='number')).columns\n",
    "# Separate Catagorical Data (Test) \n",
    "cat_test = [col for col in test.columns if test.dtypes[col] == 'object']"
   ]
  },
  {
   "cell_type": "code",
   "execution_count": 165,
   "metadata": {},
   "outputs": [
    {
     "data": {
      "text/plain": [
       "['ethnicity',\n",
       " 'gender',\n",
       " 'hospital_admit_source',\n",
       " 'icu_admit_source',\n",
       " 'icu_stay_type',\n",
       " 'icu_type',\n",
       " 'apache_3j_bodysystem',\n",
       " 'apache_2_bodysystem']"
      ]
     },
     "execution_count": 165,
     "metadata": {},
     "output_type": "execute_result"
    }
   ],
   "source": [
    "# List of Catagorical Variables (Method 1)\n",
    "cat_train"
   ]
  },
  {
   "cell_type": "code",
   "execution_count": 16,
   "metadata": {},
   "outputs": [
    {
     "name": "stdout",
     "output_type": "stream",
     "text": [
      "['ethnicity', 'gender', 'hospital_admit_source', 'icu_admit_source', 'icu_stay_type', 'icu_type', 'apache_3j_bodysystem', 'apache_2_bodysystem']\n"
     ]
    }
   ],
   "source": [
    "# List Categorical Variables (Method 2)\n",
    "# print([c for c in train.columns if (1< train[c].nunique()) & (train[c].dtype != np.number)& (train[c].dtype != int) ])"
   ]
  },
  {
   "cell_type": "code",
   "execution_count": 17,
   "metadata": {},
   "outputs": [],
   "source": [
    "categorical_cols =  ['hospital_id','ethnicity', 'gender', 'hospital_admit_source', 'icu_admit_source', 'icu_stay_type', 'icu_type', 'apache_3j_bodysystem', 'apache_2_bodysystem',\"hospital_death\"]"
   ]
  },
  {
   "cell_type": "code",
   "execution_count": 191,
   "metadata": {},
   "outputs": [],
   "source": [
    "categorical_train= train[categorical_cols]\n",
    "# categorical_train.head(5)"
   ]
  },
  {
   "cell_type": "markdown",
   "metadata": {},
   "source": [
    "<a name=\"Encoding_Methods\"></a>\n",
    "### [Encoding Methods](#Encoding_Methods)"
   ]
  },
  {
   "cell_type": "markdown",
   "metadata": {},
   "source": [
    "#### OneHot Encoding    \n",
    "One-hot encoding is one of the most popular encoding technique. It creates a column for each category in the feature and assigning a 0 or 1 to label each category."
   ]
  },
  {
   "cell_type": "code",
   "execution_count": 19,
   "metadata": {},
   "outputs": [
    {
     "data": {
      "text/plain": [
       "Caucasian           70684\n",
       "African American     9547\n",
       "Other/Unknown        4374\n",
       "Hispanic             3796\n",
       "Asian                1129\n",
       "Native American       788\n",
       "Name: ethnicity, dtype: int64"
      ]
     },
     "execution_count": 19,
     "metadata": {},
     "output_type": "execute_result"
    }
   ],
   "source": [
    "X = pd.DataFrame(categorical_train['ethnicity'])\n",
    "categorical_train['ethnicity'].value_counts()"
   ]
  },
  {
   "cell_type": "code",
   "execution_count": 20,
   "metadata": {},
   "outputs": [
    {
     "data": {
      "text/html": [
       "<div>\n",
       "<style scoped>\n",
       "    .dataframe tbody tr th:only-of-type {\n",
       "        vertical-align: middle;\n",
       "    }\n",
       "\n",
       "    .dataframe tbody tr th {\n",
       "        vertical-align: top;\n",
       "    }\n",
       "\n",
       "    .dataframe thead th {\n",
       "        text-align: right;\n",
       "    }\n",
       "</style>\n",
       "<table border=\"1\" class=\"dataframe\">\n",
       "  <thead>\n",
       "    <tr style=\"text-align: right;\">\n",
       "      <th></th>\n",
       "      <th>ethnicity_African American</th>\n",
       "      <th>ethnicity_Asian</th>\n",
       "      <th>ethnicity_Caucasian</th>\n",
       "      <th>ethnicity_Hispanic</th>\n",
       "      <th>ethnicity_Native American</th>\n",
       "      <th>ethnicity_Other/Unknown</th>\n",
       "    </tr>\n",
       "  </thead>\n",
       "  <tbody>\n",
       "    <tr>\n",
       "      <td>0</td>\n",
       "      <td>0</td>\n",
       "      <td>0</td>\n",
       "      <td>1</td>\n",
       "      <td>0</td>\n",
       "      <td>0</td>\n",
       "      <td>0</td>\n",
       "    </tr>\n",
       "    <tr>\n",
       "      <td>1</td>\n",
       "      <td>0</td>\n",
       "      <td>0</td>\n",
       "      <td>1</td>\n",
       "      <td>0</td>\n",
       "      <td>0</td>\n",
       "      <td>0</td>\n",
       "    </tr>\n",
       "    <tr>\n",
       "      <td>2</td>\n",
       "      <td>0</td>\n",
       "      <td>0</td>\n",
       "      <td>1</td>\n",
       "      <td>0</td>\n",
       "      <td>0</td>\n",
       "      <td>0</td>\n",
       "    </tr>\n",
       "    <tr>\n",
       "      <td>3</td>\n",
       "      <td>0</td>\n",
       "      <td>0</td>\n",
       "      <td>1</td>\n",
       "      <td>0</td>\n",
       "      <td>0</td>\n",
       "      <td>0</td>\n",
       "    </tr>\n",
       "    <tr>\n",
       "      <td>4</td>\n",
       "      <td>0</td>\n",
       "      <td>0</td>\n",
       "      <td>1</td>\n",
       "      <td>0</td>\n",
       "      <td>0</td>\n",
       "      <td>0</td>\n",
       "    </tr>\n",
       "  </tbody>\n",
       "</table>\n",
       "</div>"
      ],
      "text/plain": [
       "   ethnicity_African American  ethnicity_Asian  ethnicity_Caucasian  \\\n",
       "0                           0                0                    1   \n",
       "1                           0                0                    1   \n",
       "2                           0                0                    1   \n",
       "3                           0                0                    1   \n",
       "4                           0                0                    1   \n",
       "\n",
       "   ethnicity_Hispanic  ethnicity_Native American  ethnicity_Other/Unknown  \n",
       "0                   0                          0                        0  \n",
       "1                   0                          0                        0  \n",
       "2                   0                          0                        0  \n",
       "3                   0                          0                        0  \n",
       "4                   0                          0                        0  "
      ]
     },
     "execution_count": 20,
     "metadata": {},
     "output_type": "execute_result"
    }
   ],
   "source": [
    "one_hot_encoding = pd.get_dummies(X)\n",
    "one_hot_encoding.head()"
   ]
  },
  {
   "cell_type": "markdown",
   "metadata": {},
   "source": [
    "#### Label Encoding \n",
    "Label encoding technique transforms non-numerical labels into numerical labels. Each category is assigned a number starting from 0 and continue until n. "
   ]
  },
  {
   "cell_type": "code",
   "execution_count": 21,
   "metadata": {},
   "outputs": [
    {
     "data": {
      "text/html": [
       "<div>\n",
       "<style scoped>\n",
       "    .dataframe tbody tr th:only-of-type {\n",
       "        vertical-align: middle;\n",
       "    }\n",
       "\n",
       "    .dataframe tbody tr th {\n",
       "        vertical-align: top;\n",
       "    }\n",
       "\n",
       "    .dataframe thead th {\n",
       "        text-align: right;\n",
       "    }\n",
       "</style>\n",
       "<table border=\"1\" class=\"dataframe\">\n",
       "  <thead>\n",
       "    <tr style=\"text-align: right;\">\n",
       "      <th></th>\n",
       "      <th>Gender</th>\n",
       "    </tr>\n",
       "  </thead>\n",
       "  <tbody>\n",
       "    <tr>\n",
       "      <td>0</td>\n",
       "      <td>1</td>\n",
       "    </tr>\n",
       "    <tr>\n",
       "      <td>1</td>\n",
       "      <td>0</td>\n",
       "    </tr>\n",
       "    <tr>\n",
       "      <td>2</td>\n",
       "      <td>0</td>\n",
       "    </tr>\n",
       "    <tr>\n",
       "      <td>3</td>\n",
       "      <td>0</td>\n",
       "    </tr>\n",
       "    <tr>\n",
       "      <td>4</td>\n",
       "      <td>1</td>\n",
       "    </tr>\n",
       "  </tbody>\n",
       "</table>\n",
       "</div>"
      ],
      "text/plain": [
       "   Gender\n",
       "0       1\n",
       "1       0\n",
       "2       0\n",
       "3       0\n",
       "4       1"
      ]
     },
     "execution_count": 21,
     "metadata": {},
     "output_type": "execute_result"
    }
   ],
   "source": [
    "le = LabelEncoder()  \n",
    "gender = pd.DataFrame(le.fit_transform(categorical_train['gender'].astype('str')))\n",
    "gender.columns = ['Gender']\n",
    "gender.head()"
   ]
  },
  {
   "cell_type": "markdown",
   "metadata": {},
   "source": [
    "#### Ordinal Encoding\n",
    "Ordinal encoding uses a single column of integers to identify the classes. "
   ]
  },
  {
   "cell_type": "code",
   "execution_count": 22,
   "metadata": {},
   "outputs": [
    {
     "data": {
      "text/html": [
       "<div>\n",
       "<style scoped>\n",
       "    .dataframe tbody tr th:only-of-type {\n",
       "        vertical-align: middle;\n",
       "    }\n",
       "\n",
       "    .dataframe tbody tr th {\n",
       "        vertical-align: top;\n",
       "    }\n",
       "\n",
       "    .dataframe thead th {\n",
       "        text-align: right;\n",
       "    }\n",
       "</style>\n",
       "<table border=\"1\" class=\"dataframe\">\n",
       "  <thead>\n",
       "    <tr style=\"text-align: right;\">\n",
       "      <th></th>\n",
       "      <th>icu_stay_type</th>\n",
       "      <th>icu_st_ordinal</th>\n",
       "    </tr>\n",
       "  </thead>\n",
       "  <tbody>\n",
       "    <tr>\n",
       "      <td>0</td>\n",
       "      <td>admit</td>\n",
       "      <td>0</td>\n",
       "    </tr>\n",
       "    <tr>\n",
       "      <td>1</td>\n",
       "      <td>admit</td>\n",
       "      <td>0</td>\n",
       "    </tr>\n",
       "    <tr>\n",
       "      <td>2</td>\n",
       "      <td>admit</td>\n",
       "      <td>0</td>\n",
       "    </tr>\n",
       "    <tr>\n",
       "      <td>3</td>\n",
       "      <td>admit</td>\n",
       "      <td>0</td>\n",
       "    </tr>\n",
       "    <tr>\n",
       "      <td>4</td>\n",
       "      <td>admit</td>\n",
       "      <td>0</td>\n",
       "    </tr>\n",
       "  </tbody>\n",
       "</table>\n",
       "</div>"
      ],
      "text/plain": [
       "  icu_stay_type  icu_st_ordinal\n",
       "0         admit               0\n",
       "1         admit               0\n",
       "2         admit               0\n",
       "3         admit               0\n",
       "4         admit               0"
      ]
     },
     "execution_count": 22,
     "metadata": {},
     "output_type": "execute_result"
    }
   ],
   "source": [
    "icu_st = pd.DataFrame(categorical_train['icu_stay_type'])\n",
    "icu_st.columns = ['icu_stay_type']\n",
    "icu_st_dict={'admit':0,'readmit':1,'transfer':2}\n",
    "icu_st['icu_st_ordinal'] = icu_st.icu_stay_type.map(icu_st_dict)\n",
    "icu_st.head(5)"
   ]
  },
  {
   "cell_type": "markdown",
   "metadata": {},
   "source": [
    "#### Binary Encoding \n",
    "\n",
    "Binary encoding transforms a category into a binary number for an individual feature column. In the case of n categories of features, binary encoding results in log(base 2)ⁿ. "
   ]
  },
  {
   "cell_type": "code",
   "execution_count": 23,
   "metadata": {},
   "outputs": [
    {
     "data": {
      "text/plain": [
       "array(['Sepsis', 'Respiratory', 'Metabolic', 'Cardiovascular', 'Trauma',\n",
       "       'Neurological', 'Gastrointestinal', 'Genitourinary', nan,\n",
       "       'Hematological', 'Musculoskeletal/Skin', 'Gynecological'],\n",
       "      dtype=object)"
      ]
     },
     "execution_count": 23,
     "metadata": {},
     "output_type": "execute_result"
    }
   ],
   "source": [
    "categorical_train['apache_3j_bodysystem'].unique()"
   ]
  },
  {
   "cell_type": "code",
   "execution_count": 192,
   "metadata": {},
   "outputs": [
    {
     "data": {
      "text/html": [
       "<div>\n",
       "<style scoped>\n",
       "    .dataframe tbody tr th:only-of-type {\n",
       "        vertical-align: middle;\n",
       "    }\n",
       "\n",
       "    .dataframe tbody tr th {\n",
       "        vertical-align: top;\n",
       "    }\n",
       "\n",
       "    .dataframe thead th {\n",
       "        text-align: right;\n",
       "    }\n",
       "</style>\n",
       "<table border=\"1\" class=\"dataframe\">\n",
       "  <thead>\n",
       "    <tr style=\"text-align: right;\">\n",
       "      <th></th>\n",
       "      <th>apache_3j_bodysystem</th>\n",
       "      <th>apache_3j_bodysystem_0</th>\n",
       "      <th>apache_3j_bodysystem_1</th>\n",
       "      <th>apache_3j_bodysystem_2</th>\n",
       "      <th>apache_3j_bodysystem_3</th>\n",
       "      <th>apache_3j_bodysystem_4</th>\n",
       "    </tr>\n",
       "  </thead>\n",
       "  <tbody>\n",
       "    <tr>\n",
       "      <td>0</td>\n",
       "      <td>Sepsis</td>\n",
       "      <td>0</td>\n",
       "      <td>1</td>\n",
       "      <td>0</td>\n",
       "      <td>1</td>\n",
       "      <td>0</td>\n",
       "    </tr>\n",
       "    <tr>\n",
       "      <td>1</td>\n",
       "      <td>Respiratory</td>\n",
       "      <td>0</td>\n",
       "      <td>1</td>\n",
       "      <td>0</td>\n",
       "      <td>0</td>\n",
       "      <td>1</td>\n",
       "    </tr>\n",
       "    <tr>\n",
       "      <td>2</td>\n",
       "      <td>Metabolic</td>\n",
       "      <td>0</td>\n",
       "      <td>0</td>\n",
       "      <td>1</td>\n",
       "      <td>1</td>\n",
       "      <td>0</td>\n",
       "    </tr>\n",
       "    <tr>\n",
       "      <td>3</td>\n",
       "      <td>Cardiovascular</td>\n",
       "      <td>0</td>\n",
       "      <td>0</td>\n",
       "      <td>0</td>\n",
       "      <td>0</td>\n",
       "      <td>1</td>\n",
       "    </tr>\n",
       "    <tr>\n",
       "      <td>4</td>\n",
       "      <td>Trauma</td>\n",
       "      <td>0</td>\n",
       "      <td>1</td>\n",
       "      <td>0</td>\n",
       "      <td>1</td>\n",
       "      <td>1</td>\n",
       "    </tr>\n",
       "  </tbody>\n",
       "</table>\n",
       "</div>"
      ],
      "text/plain": [
       "  apache_3j_bodysystem  apache_3j_bodysystem_0  apache_3j_bodysystem_1  apache_3j_bodysystem_2  apache_3j_bodysystem_3  apache_3j_bodysystem_4\n",
       "0               Sepsis                       0                       1                       0                       1                       0\n",
       "1          Respiratory                       0                       1                       0                       0                       1\n",
       "2            Metabolic                       0                       0                       1                       1                       0\n",
       "3       Cardiovascular                       0                       0                       0                       0                       1\n",
       "4               Trauma                       0                       1                       0                       1                       1"
      ]
     },
     "execution_count": 192,
     "metadata": {},
     "output_type": "execute_result"
    }
   ],
   "source": [
    "apache_3 = pd.DataFrame(categorical_train['apache_3j_bodysystem'])\n",
    "apache_3 = apache_3.dropna()\n",
    "apache_3.columns =['apache_3j_bodysystem']\n",
    "encoder = ce.BinaryEncoder(cols = ['apache_3j_bodysystem'])\n",
    "apache_bin = encoder.fit_transform(apache_3['apache_3j_bodysystem'])\n",
    "apache_3 = pd.concat([apache_3,apache_bin],axis = 1)\n",
    "apache_3.head(5)"
   ]
  },
  {
   "cell_type": "markdown",
   "metadata": {},
   "source": [
    "#### Frequency Encoding \n",
    "Frequency encoding is corresponding with the target variable."
   ]
  },
  {
   "cell_type": "code",
   "execution_count": 25,
   "metadata": {},
   "outputs": [
    {
     "data": {
      "text/plain": [
       "array(['Floor', 'Emergency Department', 'Operating Room', nan,\n",
       "       'Direct Admit', 'Other Hospital', 'Other ICU', 'ICU to SDU',\n",
       "       'Recovery Room', 'Chest Pain Center', 'Step-Down Unit (SDU)',\n",
       "       'Acute Care/Floor', 'PACU', 'Observation', 'ICU', 'Other'],\n",
       "      dtype=object)"
      ]
     },
     "execution_count": 25,
     "metadata": {},
     "output_type": "execute_result"
    }
   ],
   "source": [
    "categorical_train['hospital_admit_source'].unique()"
   ]
  },
  {
   "cell_type": "code",
   "execution_count": 56,
   "metadata": {},
   "outputs": [
    {
     "data": {
      "text/html": [
       "<div>\n",
       "<style scoped>\n",
       "    .dataframe tbody tr th:only-of-type {\n",
       "        vertical-align: middle;\n",
       "    }\n",
       "\n",
       "    .dataframe tbody tr th {\n",
       "        vertical-align: top;\n",
       "    }\n",
       "\n",
       "    .dataframe thead th {\n",
       "        text-align: right;\n",
       "    }\n",
       "</style>\n",
       "<table border=\"1\" class=\"dataframe\">\n",
       "  <thead>\n",
       "    <tr style=\"text-align: right;\">\n",
       "      <th></th>\n",
       "      <th>hospital_admit_source</th>\n",
       "      <th>hospital_admit_source_fe</th>\n",
       "    </tr>\n",
       "  </thead>\n",
       "  <tbody>\n",
       "    <tr>\n",
       "      <td>0</td>\n",
       "      <td>Floor</td>\n",
       "      <td>0.114574</td>\n",
       "    </tr>\n",
       "    <tr>\n",
       "      <td>1</td>\n",
       "      <td>Floor</td>\n",
       "      <td>0.114574</td>\n",
       "    </tr>\n",
       "    <tr>\n",
       "      <td>2</td>\n",
       "      <td>Emergency Department</td>\n",
       "      <td>0.525745</td>\n",
       "    </tr>\n",
       "    <tr>\n",
       "      <td>3</td>\n",
       "      <td>Operating Room</td>\n",
       "      <td>0.139210</td>\n",
       "    </tr>\n",
       "    <tr>\n",
       "      <td>5</td>\n",
       "      <td>Direct Admit</td>\n",
       "      <td>0.091616</td>\n",
       "    </tr>\n",
       "  </tbody>\n",
       "</table>\n",
       "</div>"
      ],
      "text/plain": [
       "  hospital_admit_source  hospital_admit_source_fe\n",
       "0                 Floor                  0.114574\n",
       "1                 Floor                  0.114574\n",
       "2  Emergency Department                  0.525745\n",
       "3        Operating Room                  0.139210\n",
       "5          Direct Admit                  0.091616"
      ]
     },
     "execution_count": 56,
     "metadata": {},
     "output_type": "execute_result"
    }
   ],
   "source": [
    "hosp_asource = pd.DataFrame(categorical_train['hospital_admit_source'])\n",
    "hosp_asource = hosp_asource.dropna()\n",
    "hosp_asource.columns =['hospital_admit_source']\n",
    "fe = hosp_asource.groupby('hospital_admit_source').size()/len(hosp_asource)\n",
    "hosp_asource.loc[:,'hospital_admit_source_fe'] = hosp_asource['hospital_admit_source'].map(fe)\n",
    "hosp_asource.head()"
   ]
  },
  {
   "cell_type": "markdown",
   "metadata": {},
   "source": [
    "#### Mean Encoding \n",
    "\n",
    "Mean encoding has similarities to label encoding, the difference is that Mean Encoding corresponding to the target. For example, in mean target encoding for each category in the feature label is determined by the mean value of the target variable of the training data."
   ]
  },
  {
   "cell_type": "code",
   "execution_count": 58,
   "metadata": {},
   "outputs": [
    {
     "data": {
      "text/plain": [
       "array(['CTICU', 'Med-Surg ICU', 'CCU-CTICU', 'Neuro ICU', 'MICU', 'SICU',\n",
       "       'Cardiac ICU', 'CSICU'], dtype=object)"
      ]
     },
     "execution_count": 58,
     "metadata": {},
     "output_type": "execute_result"
    }
   ],
   "source": [
    "categorical_train['icu_type'].unique()"
   ]
  },
  {
   "cell_type": "code",
   "execution_count": 61,
   "metadata": {},
   "outputs": [
    {
     "data": {
      "text/html": [
       "<div>\n",
       "<style scoped>\n",
       "    .dataframe tbody tr th:only-of-type {\n",
       "        vertical-align: middle;\n",
       "    }\n",
       "\n",
       "    .dataframe tbody tr th {\n",
       "        vertical-align: top;\n",
       "    }\n",
       "\n",
       "    .dataframe thead th {\n",
       "        text-align: right;\n",
       "    }\n",
       "</style>\n",
       "<table border=\"1\" class=\"dataframe\">\n",
       "  <thead>\n",
       "    <tr style=\"text-align: right;\">\n",
       "      <th></th>\n",
       "      <th>icu_type</th>\n",
       "      <th>hospital_death</th>\n",
       "      <th>icu_type_mean_en</th>\n",
       "    </tr>\n",
       "  </thead>\n",
       "  <tbody>\n",
       "    <tr>\n",
       "      <td>0</td>\n",
       "      <td>CTICU</td>\n",
       "      <td>0</td>\n",
       "      <td>0.060205</td>\n",
       "    </tr>\n",
       "    <tr>\n",
       "      <td>1</td>\n",
       "      <td>Med-Surg ICU</td>\n",
       "      <td>0</td>\n",
       "      <td>0.087495</td>\n",
       "    </tr>\n",
       "    <tr>\n",
       "      <td>2</td>\n",
       "      <td>Med-Surg ICU</td>\n",
       "      <td>0</td>\n",
       "      <td>0.087495</td>\n",
       "    </tr>\n",
       "    <tr>\n",
       "      <td>3</td>\n",
       "      <td>CTICU</td>\n",
       "      <td>0</td>\n",
       "      <td>0.060205</td>\n",
       "    </tr>\n",
       "    <tr>\n",
       "      <td>4</td>\n",
       "      <td>Med-Surg ICU</td>\n",
       "      <td>0</td>\n",
       "      <td>0.087495</td>\n",
       "    </tr>\n",
       "  </tbody>\n",
       "</table>\n",
       "</div>"
      ],
      "text/plain": [
       "       icu_type  hospital_death  icu_type_mean_en\n",
       "0         CTICU               0          0.060205\n",
       "1  Med-Surg ICU               0          0.087495\n",
       "2  Med-Surg ICU               0          0.087495\n",
       "3         CTICU               0          0.060205\n",
       "4  Med-Surg ICU               0          0.087495"
      ]
     },
     "execution_count": 61,
     "metadata": {},
     "output_type": "execute_result"
    }
   ],
   "source": [
    "icu_type = pd.DataFrame(categorical_train[['icu_type','hospital_death']])\n",
    "icu_type = icu_type.dropna()\n",
    "icu_type.columns =['icu_type','hospital_death']\n",
    "mean_encode = icu_type.groupby('icu_type')['hospital_death'].mean()\n",
    "icu_type.loc[:,'icu_type_mean_en'] = icu_type['icu_type'].map(mean_encode)\n",
    "icu_type.head()"
   ]
  },
  {
   "cell_type": "code",
   "execution_count": 62,
   "metadata": {},
   "outputs": [],
   "source": [
    "# Separate Integer, Binary, Numeric and String Data\n",
    "\n",
    "features_integer = dictionary[dictionary['Data Type'] == 'integer']['Variable Name'].values\n",
    "features_binary = dictionary[dictionary['Data Type'] == 'binary']['Variable Name'].values\n",
    "features_numeric =dictionary[dictionary['Data Type'] == 'numeric']['Variable Name'].values\n",
    "features_string = dictionary[dictionary['Data Type'] == 'string']['Variable Name'].values"
   ]
  },
  {
   "cell_type": "markdown",
   "metadata": {},
   "source": [
    "#### Death Rate vs Gender"
   ]
  },
  {
   "cell_type": "code",
   "execution_count": 68,
   "metadata": {},
   "outputs": [
    {
     "data": {
      "text/html": [
       "<div>\n",
       "<style scoped>\n",
       "    .dataframe tbody tr th:only-of-type {\n",
       "        vertical-align: middle;\n",
       "    }\n",
       "\n",
       "    .dataframe tbody tr th {\n",
       "        vertical-align: top;\n",
       "    }\n",
       "\n",
       "    .dataframe thead th {\n",
       "        text-align: right;\n",
       "    }\n",
       "</style>\n",
       "<table border=\"1\" class=\"dataframe\">\n",
       "  <thead>\n",
       "    <tr style=\"text-align: right;\">\n",
       "      <th></th>\n",
       "      <th>hospital_death</th>\n",
       "    </tr>\n",
       "    <tr>\n",
       "      <th>gender</th>\n",
       "      <th></th>\n",
       "    </tr>\n",
       "  </thead>\n",
       "  <tbody>\n",
       "    <tr>\n",
       "      <td>F</td>\n",
       "      <td>0.088373</td>\n",
       "    </tr>\n",
       "    <tr>\n",
       "      <td>M</td>\n",
       "      <td>0.084417</td>\n",
       "    </tr>\n",
       "  </tbody>\n",
       "</table>\n",
       "</div>"
      ],
      "text/plain": [
       "        hospital_death\n",
       "gender                \n",
       "F             0.088373\n",
       "M             0.084417"
      ]
     },
     "execution_count": 68,
     "metadata": {},
     "output_type": "execute_result"
    }
   ],
   "source": [
    "train[['hospital_death', 'gender']].groupby(['gender'])[['hospital_death']].mean()"
   ]
  },
  {
   "cell_type": "markdown",
   "metadata": {},
   "source": [
    "#### Death Rate vs Age"
   ]
  },
  {
   "cell_type": "code",
   "execution_count": 193,
   "metadata": {},
   "outputs": [],
   "source": [
    "age_death=train[['hospital_death', 'age']].groupby(['age'])[['hospital_death']].mean()\n",
    "\n",
    "pd.set_option('display.max_rows', 500)\n",
    "pd.set_option('display.max_columns', 500)\n",
    "pd.set_option('display.width', 1000)\n",
    "\n",
    "# print(age_death)"
   ]
  },
  {
   "cell_type": "code",
   "execution_count": 133,
   "metadata": {},
   "outputs": [],
   "source": [
    "# Age is a column, NOT an index:\n",
    "age_death=train[['hospital_death', 'age']].groupby(['age'])[['hospital_death']].mean()\n",
    "# age_death"
   ]
  },
  {
   "cell_type": "code",
   "execution_count": 136,
   "metadata": {},
   "outputs": [
    {
     "data": {
      "text/plain": [
       "Index(['age', 'hospital_death'], dtype='object')"
      ]
     },
     "execution_count": 136,
     "metadata": {},
     "output_type": "execute_result"
    }
   ],
   "source": [
    "# Age is index now:\n",
    "age_death2=train[['hospital_death', 'age']].groupby(['age'])[['hospital_death']].mean().reset_index()\n",
    "# age_death2\n",
    "# age_death2.columns"
   ]
  },
  {
   "cell_type": "code",
   "execution_count": 137,
   "metadata": {},
   "outputs": [],
   "source": [
    "# age is index now:\n",
    "a = train[['hospital_death', 'age']].groupby(['age'])[['hospital_death']].mean()\n",
    "# a.index"
   ]
  },
  {
   "cell_type": "code",
   "execution_count": 138,
   "metadata": {},
   "outputs": [
    {
     "data": {
      "image/png": "[encoded data removed]",
      "text/plain": [
       "<Figure size 432x288 with 1 Axes>"
      ]
     },
     "metadata": {
      "needs_background": "light"
     },
     "output_type": "display_data"
    }
   ],
   "source": [
    "plt.plot( 'age', 'hospital_death', data=age_death2, color='skyblue')\n",
    "plt.show()\n"
   ]
  },
  {
   "cell_type": "markdown",
   "metadata": {},
   "source": [
    "#### Death Rate vs Ethnicity"
   ]
  },
  {
   "cell_type": "code",
   "execution_count": 76,
   "metadata": {},
   "outputs": [],
   "source": [
    "ethnicity1=train[['hospital_death', 'ethnicity']].groupby(['ethnicity'])[['hospital_death']].mean()"
   ]
  },
  {
   "cell_type": "code",
   "execution_count": 77,
   "metadata": {},
   "outputs": [],
   "source": [
    "ethnicity2=train[['hospital_death', 'ethnicity']].groupby(['ethnicity'])[['hospital_death']].mean().reset_index()"
   ]
  },
  {
   "cell_type": "code",
   "execution_count": 78,
   "metadata": {},
   "outputs": [
    {
     "data": {
      "image/png": "[encoded data removed]",
      "text/plain": [
       "<Figure size 432x288 with 1 Axes>"
      ]
     },
     "metadata": {
      "needs_background": "light"
     },
     "output_type": "display_data"
    }
   ],
   "source": [
    "plt.bar('ethnicity','hospital_death',  data = ethnicity2)\n",
    "plt.xlabel('Ethnicity', fontsize=5)\n",
    "plt.ylabel('Hospital Death', fontsize=5)\n",
    "plt.title('Ethnicity vs Hospital Death')\n",
    "plt.show()"
   ]
  },
  {
   "cell_type": "code",
   "execution_count": 79,
   "metadata": {},
   "outputs": [
    {
     "data": {
      "text/plain": [
       "Index(['African American', 'Asian', 'Caucasian', 'Hispanic', 'Native American', 'Other/Unknown'], dtype='object', name='ethnicity')"
      ]
     },
     "execution_count": 79,
     "metadata": {},
     "output_type": "execute_result"
    }
   ],
   "source": [
    "ethnicity1.index"
   ]
  },
  {
   "cell_type": "code",
   "execution_count": 80,
   "metadata": {},
   "outputs": [
    {
     "data": {
      "text/plain": [
       "array(['African American', 'Asian', 'Caucasian', 'Hispanic',\n",
       "       'Native American', 'Other/Unknown'], dtype=object)"
      ]
     },
     "execution_count": 80,
     "metadata": {},
     "output_type": "execute_result"
    }
   ],
   "source": [
    "ethnicity1.index.values"
   ]
  },
  {
   "cell_type": "code",
   "execution_count": 81,
   "metadata": {},
   "outputs": [
    {
     "data": {
      "text/plain": [
       "pandas.core.series.Series"
      ]
     },
     "execution_count": 81,
     "metadata": {},
     "output_type": "execute_result"
    }
   ],
   "source": [
    "type(train['gender'])"
   ]
  },
  {
   "cell_type": "code",
   "execution_count": 85,
   "metadata": {},
   "outputs": [
    {
     "data": {
      "text/plain": [
       "0.086"
      ]
     },
     "execution_count": 85,
     "metadata": {},
     "output_type": "execute_result"
    }
   ],
   "source": [
    "mean_death=train['hospital_death'].mean()\n",
    "round(mean_death, 3)"
   ]
  },
  {
   "cell_type": "markdown",
   "metadata": {},
   "source": [
    "<a id=\"Handling_Missing_Data\"></a>\n",
    "### [Handling Missing Data](Handling_Missing_Data)"
   ]
  },
  {
   "cell_type": "code",
   "execution_count": null,
   "metadata": {},
   "outputs": [],
   "source": [
    "count_non_na = train.count().sort_values()"
   ]
  },
  {
   "cell_type": "code",
   "execution_count": null,
   "metadata": {},
   "outputs": [],
   "source": [
    "# Top 20 Most Populated Columns\n",
    "# pd.DataFrame(count_non_na)[-20:]"
   ]
  },
  {
   "cell_type": "code",
   "execution_count": 195,
   "metadata": {},
   "outputs": [
    {
     "data": {
      "text/html": [
       "<div>\n",
       "<style scoped>\n",
       "    .dataframe tbody tr th:only-of-type {\n",
       "        vertical-align: middle;\n",
       "    }\n",
       "\n",
       "    .dataframe tbody tr th {\n",
       "        vertical-align: top;\n",
       "    }\n",
       "\n",
       "    .dataframe thead th {\n",
       "        text-align: right;\n",
       "    }\n",
       "</style>\n",
       "<table border=\"1\" class=\"dataframe\">\n",
       "  <thead>\n",
       "    <tr style=\"text-align: right;\">\n",
       "      <th></th>\n",
       "      <th>0</th>\n",
       "    </tr>\n",
       "  </thead>\n",
       "  <tbody>\n",
       "    <tr>\n",
       "      <td>icu_type</td>\n",
       "      <td>91713</td>\n",
       "    </tr>\n",
       "    <tr>\n",
       "      <td>pre_icu_los_days</td>\n",
       "      <td>91713</td>\n",
       "    </tr>\n",
       "    <tr>\n",
       "      <td>readmission_status</td>\n",
       "      <td>91713</td>\n",
       "    </tr>\n",
       "    <tr>\n",
       "      <td>patient_id</td>\n",
       "      <td>91713</td>\n",
       "    </tr>\n",
       "    <tr>\n",
       "      <td>encounter_id</td>\n",
       "      <td>91713</td>\n",
       "    </tr>\n",
       "  </tbody>\n",
       "</table>\n",
       "</div>"
      ],
      "text/plain": [
       "                        0\n",
       "icu_type            91713\n",
       "pre_icu_los_days    91713\n",
       "readmission_status  91713\n",
       "patient_id          91713\n",
       "encounter_id        91713"
      ]
     },
     "execution_count": 195,
     "metadata": {},
     "output_type": "execute_result"
    }
   ],
   "source": [
    "# Top 5 Most Populated Columns \n",
    "pd.DataFrame(count_non_na)[-5:]"
   ]
  },
  {
   "cell_type": "code",
   "execution_count": 196,
   "metadata": {},
   "outputs": [
    {
     "data": {
      "text/html": [
       "<div>\n",
       "<style scoped>\n",
       "    .dataframe tbody tr th:only-of-type {\n",
       "        vertical-align: middle;\n",
       "    }\n",
       "\n",
       "    .dataframe tbody tr th {\n",
       "        vertical-align: top;\n",
       "    }\n",
       "\n",
       "    .dataframe thead th {\n",
       "        text-align: right;\n",
       "    }\n",
       "</style>\n",
       "<table border=\"1\" class=\"dataframe\">\n",
       "  <thead>\n",
       "    <tr style=\"text-align: right;\">\n",
       "      <th></th>\n",
       "      <th>0</th>\n",
       "    </tr>\n",
       "  </thead>\n",
       "  <tbody>\n",
       "    <tr>\n",
       "      <td>h1_bilirubin_min</td>\n",
       "      <td>7094</td>\n",
       "    </tr>\n",
       "    <tr>\n",
       "      <td>h1_bilirubin_max</td>\n",
       "      <td>7094</td>\n",
       "    </tr>\n",
       "    <tr>\n",
       "      <td>h1_lactate_min</td>\n",
       "      <td>7344</td>\n",
       "    </tr>\n",
       "    <tr>\n",
       "      <td>h1_lactate_max</td>\n",
       "      <td>7344</td>\n",
       "    </tr>\n",
       "    <tr>\n",
       "      <td>h1_albumin_min</td>\n",
       "      <td>7889</td>\n",
       "    </tr>\n",
       "  </tbody>\n",
       "</table>\n",
       "</div>"
      ],
      "text/plain": [
       "                     0\n",
       "h1_bilirubin_min  7094\n",
       "h1_bilirubin_max  7094\n",
       "h1_lactate_min    7344\n",
       "h1_lactate_max    7344\n",
       "h1_albumin_min    7889"
      ]
     },
     "execution_count": 196,
     "metadata": {},
     "output_type": "execute_result"
    }
   ],
   "source": [
    "# Bottom 5 Least Populated columns\n",
    "pd.DataFrame(count_non_na)[:5]"
   ]
  },
  {
   "cell_type": "code",
   "execution_count": 91,
   "metadata": {},
   "outputs": [
    {
     "data": {
      "text/plain": [
       "gender         25\n",
       "ethnicity    1395\n",
       "dtype: int64"
      ]
     },
     "execution_count": 91,
     "metadata": {},
     "output_type": "execute_result"
    }
   ],
   "source": [
    "fill_train = train[['gender','ethnicity']]\n",
    "fill_train.isna().sum()"
   ]
  },
  {
   "cell_type": "code",
   "execution_count": 139,
   "metadata": {},
   "outputs": [],
   "source": [
    "fill_train['gender'].fillna(method='bfill',inplace = True)\n",
    "\n",
    "fill_train['ethnicity'].fillna(method='ffill',inplace = True)\n",
    "# fill_train.isna().sum()"
   ]
  },
  {
   "cell_type": "code",
   "execution_count": 93,
   "metadata": {},
   "outputs": [],
   "source": [
    "imputer_skdf = train[['readmission_status','weight']]"
   ]
  },
  {
   "cell_type": "code",
   "execution_count": 94,
   "metadata": {},
   "outputs": [
    {
     "data": {
      "text/plain": [
       "readmission_status    0\n",
       "weight                0\n",
       "dtype: int64"
      ]
     },
     "execution_count": 94,
     "metadata": {},
     "output_type": "execute_result"
    }
   ],
   "source": [
    "from sklearn.impute import SimpleImputer\n",
    "imputer = SimpleImputer(missing_values=np.nan, strategy='mean')\n",
    "\n",
    "imputer_skdf = pd.DataFrame(imputer.fit_transform(imputer_skdf))\n",
    "imputer_skdf.columns = ['readmission_status','weight']\n",
    "\n",
    "imputer_skdf.isna().sum()"
   ]
  },
  {
   "cell_type": "code",
   "execution_count": 95,
   "metadata": {},
   "outputs": [
    {
     "name": "stdout",
     "output_type": "stream",
     "text": [
      "ICU Stay Type - value Counts : \n",
      "  Caucasian           70684\n",
      "African American     9547\n",
      "Other/Unknown        4374\n",
      "Hispanic             3796\n",
      "Asian                1129\n",
      "Native American       788\n",
      "Name: ethnicity, dtype: int64\n",
      "ICU Type - value Counts : \n",
      "  M    49469\n",
      "F    42219\n",
      "Name: gender, dtype: int64\n"
     ]
    }
   ],
   "source": [
    "categ_train = train[['ethnicity','gender']]\n",
    "print(\"ICU Stay Type - value Counts : \\n \" ,categ_train['ethnicity'].value_counts())\n",
    "print(\"ICU Type - value Counts : \\n \" , categ_train['gender'].value_counts())"
   ]
  },
  {
   "cell_type": "code",
   "execution_count": 98,
   "metadata": {},
   "outputs": [
    {
     "data": {
      "text/plain": [
       "ethnicity    1395\n",
       "gender         25\n",
       "dtype: int64"
      ]
     },
     "execution_count": 98,
     "metadata": {},
     "output_type": "execute_result"
    }
   ],
   "source": [
    "categ_train.isna().sum()"
   ]
  },
  {
   "cell_type": "code",
   "execution_count": 144,
   "metadata": {},
   "outputs": [],
   "source": [
    "cols_train = (train.select_dtypes(include='object')).columns\n",
    "for col in cols_train:\n",
    "    train[col] = train[col].astype('category')"
   ]
  },
  {
   "cell_type": "code",
   "execution_count": 145,
   "metadata": {},
   "outputs": [],
   "source": [
    "cols_test = (test.select_dtypes(include='object')).columns\n",
    "for col in cols_test:\n",
    "    test[col] = test[col].astype('category')"
   ]
  },
  {
   "cell_type": "code",
   "execution_count": 146,
   "metadata": {},
   "outputs": [],
   "source": [
    "#for each non-numeric column convert its data type to categorical (Train)\n",
    "\n",
    "for col in cols_train:\n",
    "    train[col] = pd.categorical(train[col])\n",
    "    train[col] = train[col].cat.codes\n",
    "    train[col] = pd.categorical(train[col])\n",
    "\n",
    "# Generate a logical index of categorical columns to  use with LightGBM later\n",
    "cat_cols_train = [i for i,v in enumerate(train.dtypes) if str(v)=='category']"
   ]
  },
  {
   "cell_type": "code",
   "execution_count": 147,
   "metadata": {},
   "outputs": [],
   "source": [
    "#for each non-numeric column convert its data type to categorical (Test)\n",
    "\n",
    "for col in cols_test:\n",
    "    test[col] = pd.categorical(test[col])\n",
    "    test[col] = test[col].cat.codes\n",
    "    test[col] = pd.categorical(test[col])\n",
    "\n",
    "    # Generate a logical index of categorical columns to  use with LightGBM later\n",
    "cat_cols_test = [i for i,v in enumerate(test.dtypes) if str(v)=='category']"
   ]
  },
  {
   "cell_type": "code",
   "execution_count": 170,
   "metadata": {},
   "outputs": [],
   "source": [
    "# Replace NAs with Median for Numerical Variables (train)\n",
    "\n",
    "for variable in num_variables_train:\n",
    "    median = train[variable].median()\n",
    "    train[variable].fillna(median, inplace=True)"
   ]
  },
  {
   "cell_type": "code",
   "execution_count": 171,
   "metadata": {},
   "outputs": [],
   "source": [
    "# Replace NAs with Median for Numerical Variables (test)\n",
    "\n",
    "for variable in num_variables_test:\n",
    "    median = test[variable].median()\n",
    "    test[variable].fillna(median, inplace=True)"
   ]
  },
  {
   "cell_type": "code",
   "execution_count": 172,
   "metadata": {},
   "outputs": [],
   "source": [
    "# For the training data, create dataframe of count of non-missing values for each variable.\n",
    "non_missing_values_train = pd.DataFrame(train.count())\n",
    "\n",
    "# Rename column.\n",
    "non_missing_values_train.rename(columns={0:\"count\"}, inplace=True)\n",
    "\n",
    "# Add new column that calculates the percent of total rows that are populated by non-missing values.\n",
    "total = train.shape[0]\n",
    "non_missing_values_train['pct_complete'] = non_missing_values_train / total"
   ]
  },
  {
   "cell_type": "code",
   "execution_count": 174,
   "metadata": {},
   "outputs": [],
   "source": [
    "# For the trianing data, drop columns that have 30% or more non-missing values\n",
    "non_missing_values_train[non_missing_values_train['pct_complete']<.7].shape[0]\n",
    "non_missing_values_train[non_missing_values_train['pct_complete']>=.7].shape[0]\n",
    "\n",
    "non_missing_values_train[non_missing_values_train['pct_complete']<.7].join(dictionary).sort_values('pct_complete',ascending=False)\n",
    "drop = non_missing_values_train[non_missing_values_train['pct_complete']<.7].index.values\n",
    "\n",
    "train = train.drop(drop, axis=1)"
   ]
  },
  {
   "cell_type": "code",
   "execution_count": 175,
   "metadata": {},
   "outputs": [],
   "source": [
    "# For the testing data, create dataframe of count of non-missing values for each variable.\n",
    "non_missing_values_test = pd.DataFrame(test.count())\n",
    "\n",
    "# Rename column.\n",
    "non_missing_values_test.rename(columns={0:\"count\"}, inplace=True)\n",
    "\n",
    "# Add new column that calculates the percent of total rows that are populated by non-missing values.\n",
    "total = test.shape[0]\n",
    "non_missing_values_test['pct_complete'] = non_missing_values_test / total"
   ]
  },
  {
   "cell_type": "code",
   "execution_count": 176,
   "metadata": {},
   "outputs": [
    {
     "name": "stderr",
     "output_type": "stream",
     "text": [
      "/opt/anaconda3/lib/python3.7/site-packages/ipykernel_launcher.py:5: UserWarning: Boolean Series key will be reindexed to match DataFrame index.\n",
      "  \"\"\"\n"
     ]
    }
   ],
   "source": [
    "# For the testing data, drop columns that have 30% or more non-missing\n",
    "non_missing_values_test[non_missing_values_test['pct_complete']<.7].shape[0]\n",
    "non_missing_values_test[non_missing_values_test['pct_complete']>=.7].shape[0]\n",
    "\n",
    "non_missing_values_test[non_missing_values_train['pct_complete']<.7].join(dictionary).sort_values('pct_complete',ascending=False)\n",
    "drop = non_missing_values_test[non_missing_values_test['pct_complete']<.7].index.values\n",
    "\n",
    "test = test.drop(drop, axis=1)"
   ]
  },
  {
   "cell_type": "code",
   "execution_count": 177,
   "metadata": {},
   "outputs": [],
   "source": [
    "# Replace NAs with Mode for Categorical Variables (Train)\n",
    "\n",
    "for variable in cat_train:\n",
    "    mode = train[variable].mode()[0]\n",
    "    train[variable].fillna(mode, inplace=True)"
   ]
  },
  {
   "cell_type": "code",
   "execution_count": 178,
   "metadata": {},
   "outputs": [],
   "source": [
    "# Replace NAs with Mode for Categorical Variables (Test)\n",
    "\n",
    "for variable in cat_test:\n",
    "    mode = train[variable].mode()[0]\n",
    "    train[variable].fillna(mode, inplace=True)"
   ]
  },
  {
   "cell_type": "markdown",
   "metadata": {},
   "source": [
    "<a id=\"LGBM_(Light_Gradient_Boosting_Machine)\"></a>\n",
    "### [LGBM (Light Gradient Boosting Machine)](#LGBM_Light_Gradient_Boosting_Machine)\n",
    "\n",
    "LGBM is a gradient boosting framework which uses decision tree algorithm. It is widely applied as a classification technique. \n",
    "\n",
    "LGBM uses the leaf-wise tree growth algorithm whereas other boosting algorithms split the tree depth wise or level wise rather than leaf-wise. So when growing on the same leaf in Light GBM, the leaf-wise algorithm can reduce more loss than the level-wise algorithm and hence results in much better accuracy.\n",
    "\n",
    "Leaf-wise splits may cause overfitting, however the overfiting problem can be solved by specifying an additional parameter max-depth which specifies the depth when splitting occurs."
   ]
  },
  {
   "cell_type": "markdown",
   "metadata": {},
   "source": [
    "<a id=\"Implementing_LGBM\"></a>\n",
    "### [Implementing LGBM](Implementing_LGBM)"
   ]
  },
  {
   "cell_type": "code",
   "execution_count": 179,
   "metadata": {},
   "outputs": [],
   "source": [
    "# Identify Target Variable\n",
    "y = train['hospital_death'] \n",
    "\n",
    "# Identify Predictor Variable\n",
    "x = train.drop('hospital_death', axis=1)"
   ]
  },
  {
   "cell_type": "code",
   "execution_count": 180,
   "metadata": {},
   "outputs": [],
   "source": [
    "# Split training data into train(0.7) and test(0.3)\n",
    "\n",
    "from sklearn.model_selection import train_test_split\n",
    "\n",
    "train_x, val_x, train_y, val_y = train_test_split(x, y, test_size=0.3, random_state=0, stratify=y)"
   ]
  },
  {
   "cell_type": "code",
   "execution_count": 181,
   "metadata": {},
   "outputs": [],
   "source": [
    "train_data = lightgbm.Dataset(train_x, label=train_y)\n",
    "test_data = lightgbm.Dataset(val_x, label=val_y)"
   ]
  },
  {
   "cell_type": "code",
   "execution_count": null,
   "metadata": {},
   "outputs": [],
   "source": [
    "# grid = {'depth': [7, 11],\n",
    "#         'application': 'binary',\n",
    "#         'objective': 'binary',\n",
    "#         'metric': 'auc',\n",
    "#         'lambda_l1': 1,\n",
    "#         'lambda_l2': 1,\n",
    "#         'is_unbalance': 'true',\n",
    "#         'boosting': 'gbdt',\n",
    "#         'num_leaves': 31,\n",
    "#         'feature_fraction': 0.9,\n",
    "#         'bagging_fraction': 0.8,\n",
    "#         'bagging_freq': 10,\n",
    "#         'learning_rate': 0.04,\n",
    "#         'scale_pos_weight':1,\n",
    "#         'verbose': 0\n",
    "# }\n",
    "\n",
    "\n",
    "# model = lightgbm.train(grid,\n",
    "#                        train_data,\n",
    "#                        valid_sets=test_data,\n",
    "#                        num_boost_round=5000,\n",
    "#                        early_stopping_rounds=500)"
   ]
  },
  {
   "cell_type": "code",
   "execution_count": null,
   "metadata": {},
   "outputs": [],
   "source": [
    "# Result:\n",
    "# Early stopping, best iteration is:\n",
    "# [321]\tvalid_0's auc: 0.90163"
   ]
  },
  {
   "cell_type": "code",
   "execution_count": 183,
   "metadata": {},
   "outputs": [
    {
     "data": {
      "image/png": "[encoded data removed]",
      "text/plain": [
       "<Figure size 432x288 with 1 Axes>"
      ]
     },
     "metadata": {
      "needs_background": "light"
     },
     "output_type": "display_data"
    }
   ],
   "source": [
    "ax = lightgbm.plot_importance(model, max_num_features=20)\n",
    "plt.show()"
   ]
  },
  {
   "cell_type": "code",
   "execution_count": 178,
   "metadata": {},
   "outputs": [],
   "source": [
    "# Import libraries\n",
    "# roc curve and auc score\n",
    "from sklearn.metrics import roc_curve\n",
    "from sklearn.metrics import roc_auc_score"
   ]
  },
  {
   "cell_type": "markdown",
   "metadata": {},
   "source": [
    "<a id=\"AUC-ROC_Curve\"></a>\n",
    "### [AUC - ROC Curve](AUC-ROC_Curve)\n",
    "\n",
    "AUC - ROC curve is a performance measurement for classification purposes at various thresholds settings. ROC is a probability curve and AUC represents degree or measure of separability. AUC - ROC curve determines the model efficiency of differiate different classes.\n",
    "\n",
    "The higher the AUC value, the better efficiency of the model i.e. better prediction on patients associate with hospital death. \n",
    " \n",
    "The ROC curve is depict with TPR (True Positive Rate) against the FPR (False Positve Rate), where TPR is on y-axis and FPR is on the x-axis."
   ]
  },
  {
   "cell_type": "code",
   "execution_count": 179,
   "metadata": {},
   "outputs": [],
   "source": [
    "def plot_roc_curve(fpr, tpr):\n",
    "    plt.plot(fpr, tpr, color='orange', label='ROC')\n",
    "    plt.plot([0, 1], [0, 1], color='darkblue', linestyle='--')\n",
    "    plt.xlabel('False Positive Rate')\n",
    "    plt.ylabel('True Positive Rate')\n",
    "    plt.title('Receiver Operating Characteristic (ROC) Curve')\n",
    "    plt.legend()\n",
    "    plt.show()"
   ]
  },
  {
   "cell_type": "code",
   "execution_count": 180,
   "metadata": {},
   "outputs": [
    {
     "data": {
      "image/png": "[encoded data removed]",
      "text/plain": [
       "<Figure size 432x288 with 1 Axes>"
      ]
     },
     "metadata": {
      "needs_background": "light"
     },
     "output_type": "display_data"
    },
    {
     "name": "stdout",
     "output_type": "stream",
     "text": [
      "AUC-ROC : 0.9016260831880011\n"
     ]
    }
   ],
   "source": [
    "probs = model.predict(val_x)\n",
    "# probs = probs[:, 1]\n",
    "auc = roc_auc_score(val_y, probs)\n",
    "fpr, tpr, thresholds = roc_curve(val_y, probs)\n",
    "plot_roc_curve(fpr, tpr)\n",
    "print(\"AUC-ROC :\",auc)"
   ]
  }
 ],
 "metadata": {
  "kernelspec": {
   "display_name": "Python 3",
   "language": "python",
   "name": "python3"
  },
  "language_info": {
   "codemirror_mode": {
    "name": "ipython",
    "version": 3
   },
   "file_extension": ".py",
   "mimetype": "text/x-python",
   "name": "python",
   "nbconvert_exporter": "python",
   "pygments_lexer": "ipython3",
   "version": "3.7.4"
  }
 },
 "nbformat": 4,
 "nbformat_minor": 2
}
